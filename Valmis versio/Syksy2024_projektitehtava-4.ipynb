{
  "nbformat": 4,
  "nbformat_minor": 0,
  "metadata": {
    "colab": {
      "provenance": [],
      "gpuType": "T4"
    },
    "kernelspec": {
      "name": "python3",
      "display_name": "Python 3"
    },
    "language_info": {
      "name": "python"
    },
    "accelerator": "GPU"
  },
  "cells": [
    {
      "cell_type": "code",
      "source": [
        "!pip install --upgrade pip\n",
        "!pip install --upgrade keras\n",
        "!pip install -U -q tensorflow\n",
        "#!pip show keras\n"
      ],
      "metadata": {
        "colab": {
          "base_uri": "https://localhost:8080/"
        },
        "id": "Jpr5xhQ34uyD",
        "outputId": "a31c2577-e029-43d6-e980-ae301e25d115"
      },
      "execution_count": null,
      "outputs": [
        {
          "output_type": "stream",
          "name": "stdout",
          "text": [
            "Requirement already satisfied: pip in /usr/local/lib/python3.10/dist-packages (24.2)\n",
            "Requirement already satisfied: keras in /usr/local/lib/python3.10/dist-packages (3.6.0)\n",
            "Requirement already satisfied: absl-py in /usr/local/lib/python3.10/dist-packages (from keras) (1.4.0)\n",
            "Requirement already satisfied: numpy in /usr/local/lib/python3.10/dist-packages (from keras) (1.26.4)\n",
            "Requirement already satisfied: rich in /usr/local/lib/python3.10/dist-packages (from keras) (13.9.2)\n",
            "Requirement already satisfied: namex in /usr/local/lib/python3.10/dist-packages (from keras) (0.0.8)\n",
            "Requirement already satisfied: h5py in /usr/local/lib/python3.10/dist-packages (from keras) (3.11.0)\n",
            "Requirement already satisfied: optree in /usr/local/lib/python3.10/dist-packages (from keras) (0.13.0)\n",
            "Requirement already satisfied: ml-dtypes in /usr/local/lib/python3.10/dist-packages (from keras) (0.4.1)\n",
            "Requirement already satisfied: packaging in /usr/local/lib/python3.10/dist-packages (from keras) (24.1)\n",
            "Requirement already satisfied: typing-extensions>=4.5.0 in /usr/local/lib/python3.10/dist-packages (from optree->keras) (4.12.2)\n",
            "Requirement already satisfied: markdown-it-py>=2.2.0 in /usr/local/lib/python3.10/dist-packages (from rich->keras) (3.0.0)\n",
            "Requirement already satisfied: pygments<3.0.0,>=2.13.0 in /usr/local/lib/python3.10/dist-packages (from rich->keras) (2.18.0)\n",
            "Requirement already satisfied: mdurl~=0.1 in /usr/local/lib/python3.10/dist-packages (from markdown-it-py>=2.2.0->rich->keras) (0.1.2)\n"
          ]
        }
      ]
    },
    {
      "cell_type": "code",
      "source": [
        "# Nämä importattiin simple audio mallissa.\n",
        "import os\n",
        "import pathlib\n",
        "\n",
        "import matplotlib.pyplot as plt\n",
        "import numpy as np\n",
        "import seaborn as sns\n",
        "import tensorflow as tf\n",
        "\n",
        "from keras import layers\n",
        "from keras import models\n",
        "from IPython import display"
      ],
      "metadata": {
        "id": "6vDG3KG50i6v"
      },
      "execution_count": null,
      "outputs": []
    },
    {
      "cell_type": "code",
      "source": [
        "import sys\n",
        "\n",
        "import numpy as np\n",
        "from keras import Model\n",
        "from keras import Layer\n",
        "\n",
        "def import_model(filepath: str) -> Model:\n",
        "    \"\"\"Load model from file\"\"\"\n",
        "    model: Model = models.load_model(filepath)\n",
        "    return model\n",
        "\n",
        "model = import_model('model_export.keras')\n",
        "print(model.summary())\n",
        "\n"
      ],
      "metadata": {
        "colab": {
          "base_uri": "https://localhost:8080/",
          "height": 610
        },
        "id": "xMIvtPLYqxK5",
        "outputId": "3526e1fc-c2a5-4451-a7f6-3ee6eaff3d68"
      },
      "execution_count": null,
      "outputs": [
        {
          "output_type": "display_data",
          "data": {
            "text/plain": [
              "\u001b[1mModel: \"sequential\"\u001b[0m\n"
            ],
            "text/html": [
              "<pre style=\"white-space:pre;overflow-x:auto;line-height:normal;font-family:Menlo,'DejaVu Sans Mono',consolas,'Courier New',monospace\"><span style=\"font-weight: bold\">Model: \"sequential\"</span>\n",
              "</pre>\n"
            ]
          },
          "metadata": {}
        },
        {
          "output_type": "display_data",
          "data": {
            "text/plain": [
              "┏━━━━━━━━━━━━━━━━━━━━━━━━━━━━━━━━━━━━━━┳━━━━━━━━━━━━━━━━━━━━━━━━━━━━━┳━━━━━━━━━━━━━━━━━┓\n",
              "┃\u001b[1m \u001b[0m\u001b[1mLayer (type)                        \u001b[0m\u001b[1m \u001b[0m┃\u001b[1m \u001b[0m\u001b[1mOutput Shape               \u001b[0m\u001b[1m \u001b[0m┃\u001b[1m \u001b[0m\u001b[1m        Param #\u001b[0m\u001b[1m \u001b[0m┃\n",
              "┡━━━━━━━━━━━━━━━━━━━━━━━━━━━━━━━━━━━━━━╇━━━━━━━━━━━━━━━━━━━━━━━━━━━━━╇━━━━━━━━━━━━━━━━━┩\n",
              "│ resizing (\u001b[38;5;33mResizing\u001b[0m)                  │ (\u001b[38;5;45mNone\u001b[0m, \u001b[38;5;34m32\u001b[0m, \u001b[38;5;34m32\u001b[0m, \u001b[38;5;34m1\u001b[0m)           │               \u001b[38;5;34m0\u001b[0m │\n",
              "├──────────────────────────────────────┼─────────────────────────────┼─────────────────┤\n",
              "│ normalization (\u001b[38;5;33mNormalization\u001b[0m)        │ (\u001b[38;5;45mNone\u001b[0m, \u001b[38;5;34m32\u001b[0m, \u001b[38;5;34m32\u001b[0m, \u001b[38;5;34m1\u001b[0m)           │               \u001b[38;5;34m3\u001b[0m │\n",
              "├──────────────────────────────────────┼─────────────────────────────┼─────────────────┤\n",
              "│ conv2d (\u001b[38;5;33mConv2D\u001b[0m)                      │ (\u001b[38;5;45mNone\u001b[0m, \u001b[38;5;34m30\u001b[0m, \u001b[38;5;34m30\u001b[0m, \u001b[38;5;34m32\u001b[0m)          │             \u001b[38;5;34m320\u001b[0m │\n",
              "├──────────────────────────────────────┼─────────────────────────────┼─────────────────┤\n",
              "│ max_pooling2d (\u001b[38;5;33mMaxPooling2D\u001b[0m)         │ (\u001b[38;5;45mNone\u001b[0m, \u001b[38;5;34m15\u001b[0m, \u001b[38;5;34m15\u001b[0m, \u001b[38;5;34m32\u001b[0m)          │               \u001b[38;5;34m0\u001b[0m │\n",
              "├──────────────────────────────────────┼─────────────────────────────┼─────────────────┤\n",
              "│ conv2d_1 (\u001b[38;5;33mConv2D\u001b[0m)                    │ (\u001b[38;5;45mNone\u001b[0m, \u001b[38;5;34m13\u001b[0m, \u001b[38;5;34m13\u001b[0m, \u001b[38;5;34m64\u001b[0m)          │          \u001b[38;5;34m18,496\u001b[0m │\n",
              "├──────────────────────────────────────┼─────────────────────────────┼─────────────────┤\n",
              "│ max_pooling2d_1 (\u001b[38;5;33mMaxPooling2D\u001b[0m)       │ (\u001b[38;5;45mNone\u001b[0m, \u001b[38;5;34m6\u001b[0m, \u001b[38;5;34m6\u001b[0m, \u001b[38;5;34m64\u001b[0m)            │               \u001b[38;5;34m0\u001b[0m │\n",
              "├──────────────────────────────────────┼─────────────────────────────┼─────────────────┤\n",
              "│ conv2d_2 (\u001b[38;5;33mConv2D\u001b[0m)                    │ (\u001b[38;5;45mNone\u001b[0m, \u001b[38;5;34m4\u001b[0m, \u001b[38;5;34m4\u001b[0m, \u001b[38;5;34m128\u001b[0m)           │          \u001b[38;5;34m73,856\u001b[0m │\n",
              "├──────────────────────────────────────┼─────────────────────────────┼─────────────────┤\n",
              "│ conv2d_3 (\u001b[38;5;33mConv2D\u001b[0m)                    │ (\u001b[38;5;45mNone\u001b[0m, \u001b[38;5;34m2\u001b[0m, \u001b[38;5;34m2\u001b[0m, \u001b[38;5;34m128\u001b[0m)           │         \u001b[38;5;34m147,584\u001b[0m │\n",
              "├──────────────────────────────────────┼─────────────────────────────┼─────────────────┤\n",
              "│ max_pooling2d_2 (\u001b[38;5;33mMaxPooling2D\u001b[0m)       │ (\u001b[38;5;45mNone\u001b[0m, \u001b[38;5;34m1\u001b[0m, \u001b[38;5;34m1\u001b[0m, \u001b[38;5;34m128\u001b[0m)           │               \u001b[38;5;34m0\u001b[0m │\n",
              "├──────────────────────────────────────┼─────────────────────────────┼─────────────────┤\n",
              "│ dropout (\u001b[38;5;33mDropout\u001b[0m)                    │ (\u001b[38;5;45mNone\u001b[0m, \u001b[38;5;34m1\u001b[0m, \u001b[38;5;34m1\u001b[0m, \u001b[38;5;34m128\u001b[0m)           │               \u001b[38;5;34m0\u001b[0m │\n",
              "├──────────────────────────────────────┼─────────────────────────────┼─────────────────┤\n",
              "│ flatten (\u001b[38;5;33mFlatten\u001b[0m)                    │ (\u001b[38;5;45mNone\u001b[0m, \u001b[38;5;34m128\u001b[0m)                 │               \u001b[38;5;34m0\u001b[0m │\n",
              "├──────────────────────────────────────┼─────────────────────────────┼─────────────────┤\n",
              "│ dense (\u001b[38;5;33mDense\u001b[0m)                        │ (\u001b[38;5;45mNone\u001b[0m, \u001b[38;5;34m256\u001b[0m)                 │          \u001b[38;5;34m33,024\u001b[0m │\n",
              "├──────────────────────────────────────┼─────────────────────────────┼─────────────────┤\n",
              "│ dropout_1 (\u001b[38;5;33mDropout\u001b[0m)                  │ (\u001b[38;5;45mNone\u001b[0m, \u001b[38;5;34m256\u001b[0m)                 │               \u001b[38;5;34m0\u001b[0m │\n",
              "├──────────────────────────────────────┼─────────────────────────────┼─────────────────┤\n",
              "│ dense_1 (\u001b[38;5;33mDense\u001b[0m)                      │ (\u001b[38;5;45mNone\u001b[0m, \u001b[38;5;34m8\u001b[0m)                   │           \u001b[38;5;34m2,056\u001b[0m │\n",
              "└──────────────────────────────────────┴─────────────────────────────┴─────────────────┘\n"
            ],
            "text/html": [
              "<pre style=\"white-space:pre;overflow-x:auto;line-height:normal;font-family:Menlo,'DejaVu Sans Mono',consolas,'Courier New',monospace\">┏━━━━━━━━━━━━━━━━━━━━━━━━━━━━━━━━━━━━━━┳━━━━━━━━━━━━━━━━━━━━━━━━━━━━━┳━━━━━━━━━━━━━━━━━┓\n",
              "┃<span style=\"font-weight: bold\"> Layer (type)                         </span>┃<span style=\"font-weight: bold\"> Output Shape                </span>┃<span style=\"font-weight: bold\">         Param # </span>┃\n",
              "┡━━━━━━━━━━━━━━━━━━━━━━━━━━━━━━━━━━━━━━╇━━━━━━━━━━━━━━━━━━━━━━━━━━━━━╇━━━━━━━━━━━━━━━━━┩\n",
              "│ resizing (<span style=\"color: #0087ff; text-decoration-color: #0087ff\">Resizing</span>)                  │ (<span style=\"color: #00d7ff; text-decoration-color: #00d7ff\">None</span>, <span style=\"color: #00af00; text-decoration-color: #00af00\">32</span>, <span style=\"color: #00af00; text-decoration-color: #00af00\">32</span>, <span style=\"color: #00af00; text-decoration-color: #00af00\">1</span>)           │               <span style=\"color: #00af00; text-decoration-color: #00af00\">0</span> │\n",
              "├──────────────────────────────────────┼─────────────────────────────┼─────────────────┤\n",
              "│ normalization (<span style=\"color: #0087ff; text-decoration-color: #0087ff\">Normalization</span>)        │ (<span style=\"color: #00d7ff; text-decoration-color: #00d7ff\">None</span>, <span style=\"color: #00af00; text-decoration-color: #00af00\">32</span>, <span style=\"color: #00af00; text-decoration-color: #00af00\">32</span>, <span style=\"color: #00af00; text-decoration-color: #00af00\">1</span>)           │               <span style=\"color: #00af00; text-decoration-color: #00af00\">3</span> │\n",
              "├──────────────────────────────────────┼─────────────────────────────┼─────────────────┤\n",
              "│ conv2d (<span style=\"color: #0087ff; text-decoration-color: #0087ff\">Conv2D</span>)                      │ (<span style=\"color: #00d7ff; text-decoration-color: #00d7ff\">None</span>, <span style=\"color: #00af00; text-decoration-color: #00af00\">30</span>, <span style=\"color: #00af00; text-decoration-color: #00af00\">30</span>, <span style=\"color: #00af00; text-decoration-color: #00af00\">32</span>)          │             <span style=\"color: #00af00; text-decoration-color: #00af00\">320</span> │\n",
              "├──────────────────────────────────────┼─────────────────────────────┼─────────────────┤\n",
              "│ max_pooling2d (<span style=\"color: #0087ff; text-decoration-color: #0087ff\">MaxPooling2D</span>)         │ (<span style=\"color: #00d7ff; text-decoration-color: #00d7ff\">None</span>, <span style=\"color: #00af00; text-decoration-color: #00af00\">15</span>, <span style=\"color: #00af00; text-decoration-color: #00af00\">15</span>, <span style=\"color: #00af00; text-decoration-color: #00af00\">32</span>)          │               <span style=\"color: #00af00; text-decoration-color: #00af00\">0</span> │\n",
              "├──────────────────────────────────────┼─────────────────────────────┼─────────────────┤\n",
              "│ conv2d_1 (<span style=\"color: #0087ff; text-decoration-color: #0087ff\">Conv2D</span>)                    │ (<span style=\"color: #00d7ff; text-decoration-color: #00d7ff\">None</span>, <span style=\"color: #00af00; text-decoration-color: #00af00\">13</span>, <span style=\"color: #00af00; text-decoration-color: #00af00\">13</span>, <span style=\"color: #00af00; text-decoration-color: #00af00\">64</span>)          │          <span style=\"color: #00af00; text-decoration-color: #00af00\">18,496</span> │\n",
              "├──────────────────────────────────────┼─────────────────────────────┼─────────────────┤\n",
              "│ max_pooling2d_1 (<span style=\"color: #0087ff; text-decoration-color: #0087ff\">MaxPooling2D</span>)       │ (<span style=\"color: #00d7ff; text-decoration-color: #00d7ff\">None</span>, <span style=\"color: #00af00; text-decoration-color: #00af00\">6</span>, <span style=\"color: #00af00; text-decoration-color: #00af00\">6</span>, <span style=\"color: #00af00; text-decoration-color: #00af00\">64</span>)            │               <span style=\"color: #00af00; text-decoration-color: #00af00\">0</span> │\n",
              "├──────────────────────────────────────┼─────────────────────────────┼─────────────────┤\n",
              "│ conv2d_2 (<span style=\"color: #0087ff; text-decoration-color: #0087ff\">Conv2D</span>)                    │ (<span style=\"color: #00d7ff; text-decoration-color: #00d7ff\">None</span>, <span style=\"color: #00af00; text-decoration-color: #00af00\">4</span>, <span style=\"color: #00af00; text-decoration-color: #00af00\">4</span>, <span style=\"color: #00af00; text-decoration-color: #00af00\">128</span>)           │          <span style=\"color: #00af00; text-decoration-color: #00af00\">73,856</span> │\n",
              "├──────────────────────────────────────┼─────────────────────────────┼─────────────────┤\n",
              "│ conv2d_3 (<span style=\"color: #0087ff; text-decoration-color: #0087ff\">Conv2D</span>)                    │ (<span style=\"color: #00d7ff; text-decoration-color: #00d7ff\">None</span>, <span style=\"color: #00af00; text-decoration-color: #00af00\">2</span>, <span style=\"color: #00af00; text-decoration-color: #00af00\">2</span>, <span style=\"color: #00af00; text-decoration-color: #00af00\">128</span>)           │         <span style=\"color: #00af00; text-decoration-color: #00af00\">147,584</span> │\n",
              "├──────────────────────────────────────┼─────────────────────────────┼─────────────────┤\n",
              "│ max_pooling2d_2 (<span style=\"color: #0087ff; text-decoration-color: #0087ff\">MaxPooling2D</span>)       │ (<span style=\"color: #00d7ff; text-decoration-color: #00d7ff\">None</span>, <span style=\"color: #00af00; text-decoration-color: #00af00\">1</span>, <span style=\"color: #00af00; text-decoration-color: #00af00\">1</span>, <span style=\"color: #00af00; text-decoration-color: #00af00\">128</span>)           │               <span style=\"color: #00af00; text-decoration-color: #00af00\">0</span> │\n",
              "├──────────────────────────────────────┼─────────────────────────────┼─────────────────┤\n",
              "│ dropout (<span style=\"color: #0087ff; text-decoration-color: #0087ff\">Dropout</span>)                    │ (<span style=\"color: #00d7ff; text-decoration-color: #00d7ff\">None</span>, <span style=\"color: #00af00; text-decoration-color: #00af00\">1</span>, <span style=\"color: #00af00; text-decoration-color: #00af00\">1</span>, <span style=\"color: #00af00; text-decoration-color: #00af00\">128</span>)           │               <span style=\"color: #00af00; text-decoration-color: #00af00\">0</span> │\n",
              "├──────────────────────────────────────┼─────────────────────────────┼─────────────────┤\n",
              "│ flatten (<span style=\"color: #0087ff; text-decoration-color: #0087ff\">Flatten</span>)                    │ (<span style=\"color: #00d7ff; text-decoration-color: #00d7ff\">None</span>, <span style=\"color: #00af00; text-decoration-color: #00af00\">128</span>)                 │               <span style=\"color: #00af00; text-decoration-color: #00af00\">0</span> │\n",
              "├──────────────────────────────────────┼─────────────────────────────┼─────────────────┤\n",
              "│ dense (<span style=\"color: #0087ff; text-decoration-color: #0087ff\">Dense</span>)                        │ (<span style=\"color: #00d7ff; text-decoration-color: #00d7ff\">None</span>, <span style=\"color: #00af00; text-decoration-color: #00af00\">256</span>)                 │          <span style=\"color: #00af00; text-decoration-color: #00af00\">33,024</span> │\n",
              "├──────────────────────────────────────┼─────────────────────────────┼─────────────────┤\n",
              "│ dropout_1 (<span style=\"color: #0087ff; text-decoration-color: #0087ff\">Dropout</span>)                  │ (<span style=\"color: #00d7ff; text-decoration-color: #00d7ff\">None</span>, <span style=\"color: #00af00; text-decoration-color: #00af00\">256</span>)                 │               <span style=\"color: #00af00; text-decoration-color: #00af00\">0</span> │\n",
              "├──────────────────────────────────────┼─────────────────────────────┼─────────────────┤\n",
              "│ dense_1 (<span style=\"color: #0087ff; text-decoration-color: #0087ff\">Dense</span>)                      │ (<span style=\"color: #00d7ff; text-decoration-color: #00d7ff\">None</span>, <span style=\"color: #00af00; text-decoration-color: #00af00\">8</span>)                   │           <span style=\"color: #00af00; text-decoration-color: #00af00\">2,056</span> │\n",
              "└──────────────────────────────────────┴─────────────────────────────┴─────────────────┘\n",
              "</pre>\n"
            ]
          },
          "metadata": {}
        },
        {
          "output_type": "display_data",
          "data": {
            "text/plain": [
              "\u001b[1m Total params: \u001b[0m\u001b[38;5;34m826,013\u001b[0m (3.15 MB)\n"
            ],
            "text/html": [
              "<pre style=\"white-space:pre;overflow-x:auto;line-height:normal;font-family:Menlo,'DejaVu Sans Mono',consolas,'Courier New',monospace\"><span style=\"font-weight: bold\"> Total params: </span><span style=\"color: #00af00; text-decoration-color: #00af00\">826,013</span> (3.15 MB)\n",
              "</pre>\n"
            ]
          },
          "metadata": {}
        },
        {
          "output_type": "display_data",
          "data": {
            "text/plain": [
              "\u001b[1m Trainable params: \u001b[0m\u001b[38;5;34m275,336\u001b[0m (1.05 MB)\n"
            ],
            "text/html": [
              "<pre style=\"white-space:pre;overflow-x:auto;line-height:normal;font-family:Menlo,'DejaVu Sans Mono',consolas,'Courier New',monospace\"><span style=\"font-weight: bold\"> Trainable params: </span><span style=\"color: #00af00; text-decoration-color: #00af00\">275,336</span> (1.05 MB)\n",
              "</pre>\n"
            ]
          },
          "metadata": {}
        },
        {
          "output_type": "display_data",
          "data": {
            "text/plain": [
              "\u001b[1m Non-trainable params: \u001b[0m\u001b[38;5;34m3\u001b[0m (16.00 B)\n"
            ],
            "text/html": [
              "<pre style=\"white-space:pre;overflow-x:auto;line-height:normal;font-family:Menlo,'DejaVu Sans Mono',consolas,'Courier New',monospace\"><span style=\"font-weight: bold\"> Non-trainable params: </span><span style=\"color: #00af00; text-decoration-color: #00af00\">3</span> (16.00 B)\n",
              "</pre>\n"
            ]
          },
          "metadata": {}
        },
        {
          "output_type": "display_data",
          "data": {
            "text/plain": [
              "\u001b[1m Optimizer params: \u001b[0m\u001b[38;5;34m550,674\u001b[0m (2.10 MB)\n"
            ],
            "text/html": [
              "<pre style=\"white-space:pre;overflow-x:auto;line-height:normal;font-family:Menlo,'DejaVu Sans Mono',consolas,'Courier New',monospace\"><span style=\"font-weight: bold\"> Optimizer params: </span><span style=\"color: #00af00; text-decoration-color: #00af00\">550,674</span> (2.10 MB)\n",
              "</pre>\n"
            ]
          },
          "metadata": {}
        },
        {
          "output_type": "stream",
          "name": "stdout",
          "text": [
            "None\n"
          ]
        }
      ]
    },
    {
      "cell_type": "code",
      "source": [
        "def get_layer_weights(layer: str, model: Model) -> list[np.ndarray]:            #hakee tietyn kerroksen painot\n",
        "    \"\"\"Get layer weights from given model\"\"\"\n",
        "    return model.get_layer(layer).get_weights()\n",
        "\n",
        "\n",
        "def get_weights_shape(layer: list[np.ndarray]):                                 #käy läpi painot ja palauttaa niiden muodot\n",
        "    tmp = []\n",
        "    for i in layer:\n",
        "        tmp.append(i.shape)\n",
        "    return tmp\n",
        "\n",
        "\n",
        "\n",
        "class DummyLayer(Layer):\n",
        "    def __init__(self):\n",
        "        super(DummyLayer, self).__init__()\n",
        "\n",
        "    def call(self, inputs):\n",
        "        return inputs\n",
        "\n",
        "def get_reference_layer(layer: str, model: Model):                              #jakaa mallin kolmeen osaan: alkuosa, tietty kerros, loppuosa\n",
        "    \"\"\"Split the model in to three parts start, layer and rest.\n",
        "\n",
        "    Example:\n",
        "    ```python\n",
        "    model = import_model(\"../model/test_model.keras\")\n",
        "    (start, layer, end) = get_reference_layer(\"dense\", model)\n",
        "\n",
        "    result = start(waveform)\n",
        "    layer_result = layer(result)\n",
        "    print(layer_result)\n",
        "    ```\n",
        "    \"\"\"\n",
        "    modelStart = models.Sequential()\n",
        "    selectedLayer: Layer\n",
        "    modelEnd = models.Sequential()\n",
        "\n",
        "    start = True\n",
        "    l: Layer\n",
        "    for l in model.layers:\n",
        "        if l.name == layer:\n",
        "            start = False\n",
        "            selectedLayer = l\n",
        "            continue\n",
        "        if start:\n",
        "            modelStart.add(l)\n",
        "        else:\n",
        "            modelEnd.add(l)\n",
        "\n",
        "    if not len(modelStart.layers):\n",
        "        modelStart.add(DummyLayer())\n",
        "    if not len(modelEnd.layers):\n",
        "        modelEnd.add(DummyLayer())\n",
        "\n",
        "    modelStart.build(model.input_shape)\n",
        "    modelEnd.build(selectedLayer.output.shape)\n",
        "    return (modelStart, selectedLayer, modelEnd)\n",
        "\n"
      ],
      "metadata": {
        "id": "VwO54FcMW-12"
      },
      "execution_count": null,
      "outputs": []
    },
    {
      "cell_type": "code",
      "source": [
        "DATASET_PATH = 'data/mini_speech_commands_extracted/mini_speech_commands'                                      #datasetin haku, lataus ja purku\n",
        "\n",
        "data_dir = pathlib.Path(DATASET_PATH)\n",
        "if not data_dir.exists():\n",
        "  tf.keras.utils.get_file(\n",
        "      'mini_speech_commands.zip',\n",
        "      origin=\"http://storage.googleapis.com/download.tensorflow.org/data/mini_speech_commands.zip\",\n",
        "      extract=True,\n",
        "      cache_dir='.', cache_subdir='data')"
      ],
      "metadata": {
        "id": "rERnpFPJb_Lg"
      },
      "execution_count": null,
      "outputs": []
    },
    {
      "cell_type": "code",
      "source": [
        "#tähän tulee flatten&dense1(), arvosana 2\n",
        "\n",
        "def flattenJaDense1(w2,b2):\n",
        "\n",
        "    tulos = np.zeros((1,w2.shape[0]))\n",
        "\n",
        "    tulos_flattened = tf.reshape(tulos, (1, -1))\n",
        "\n",
        "    # Lisää Dense-kerros\n",
        "    tulos = np.matmul(tulos_flattened, w2) + b2\n",
        "    print(\"tulos shape = \", tulos.shape)\n",
        "\n",
        "    return tulos #tämän shape pitää olla (1,128)\n",
        "\n",
        "# Example usage\n",
        "w2 = np.random.rand(3072, 128)  # Assuming w2 has shape (3072, 128)\n",
        "b2 = np.random.rand(128)         # Bias should have shape (128,)\n",
        "\n",
        "# Call the function\n",
        "layer_oma_result = flattenJaDense1(w2, b2)\n",
        "print(\"Layer output shape:\", layer_oma_result.shape)\n"
      ],
      "metadata": {
        "id": "PZmKEt2Fi6ia",
        "colab": {
          "base_uri": "https://localhost:8080/"
        },
        "outputId": "2f3262dc-78fd-43c2-8937-2b0ca7af2c37"
      },
      "execution_count": null,
      "outputs": [
        {
          "output_type": "stream",
          "name": "stdout",
          "text": [
            "tulos shape =  (1, 128)\n",
            "Layer output shape: (1, 128)\n"
          ]
        }
      ]
    },
    {
      "cell_type": "code",
      "source": [
        "# Tässä on Dense 2, arvosana 1\n",
        "\n",
        "def dense2(a0,w1,b1):\n",
        "  a1 = np.matmul(a0,w1) + b1\n",
        "  #a1 = np.matmul(w1,a0) + b1\n",
        "  return a1\n",
        "\n",
        "def omaDense2(a0,w1,b1):\n",
        "#Tässä kohtaa tarkistetaan, ovatko muuttujat TensorFlow-tensoreita, muunnetaan NumPy-taulukoiksi tarvittaessa\n",
        "  if isinstance(a0, tf.Tensor):\n",
        "     a0 = a0.numpy()\n",
        "  if isinstance(w1, tf.Tensor):\n",
        "      w1 = w1.numpy()\n",
        "  if isinstance(b1, tf.Tensor):\n",
        "      b1 = b1.numpy()\n",
        "\n",
        "  tulos = np.zeros(b1.shape)  #Luodaan nollavektori, jonka pituus on 8, eli biasin koko\n",
        "  print(\"b1 shape =\", b1.shape)\n",
        "  print(\"a0 shape =\", a0.shape)\n",
        "\n",
        "  for n in range(b1.shape[0]): #Ulompi silmukka käy läpi jokaisen tulosvektorin elementin\n",
        "    for w in range(a0.shape[1]): #Sisempi silmukka käy läpi kaikki sisääntulon painot ja suorittaa summaoperaation\n",
        "      tulos[n] += a0[0, w] * w1[w, n]  #kerrotaan sisääntulo ja painot\n",
        "    tulos[n] += b1[n] #lisätään bias tulosvektorin n:nelle elementille\n",
        "\n",
        "    print(\"tuloksen shape = \", tulos.shape)\n",
        "  return tulos #palautetaan lopullinen tulos, joka on vektori\n",
        "\n",
        "\n",
        "a0 = tf.random.uniform((1, 128)) #luodaan satunnaisia tensorflow-arvoja testausta varten\n",
        "w1 = tf.random.uniform((128, 8))\n",
        "b1 = tf.random.uniform((8,))\n",
        "\n",
        "\n",
        "print(\"a0 shape:\", a0.shape)  # (1, 128)\n",
        "print(\"w1 shape:\", w1.shape)  # (128, 8)\n",
        "print(\"b1 shape:\", b1.shape)  # (8,)\n",
        "\n",
        "\n",
        "print(\"omaDense2 tulos:\", omaDense2(a0, w1, b1))\n",
        "print(\"dense2 tulos:\", dense2(a0.numpy(), w1.numpy(), b1.numpy()))"
      ],
      "metadata": {
        "id": "a62g_3CNfCQL",
        "colab": {
          "base_uri": "https://localhost:8080/"
        },
        "outputId": "9bee15ff-f791-4f5b-b63d-27031279753a"
      },
      "execution_count": null,
      "outputs": [
        {
          "output_type": "stream",
          "name": "stdout",
          "text": [
            "a0 shape: (1, 128)\n",
            "w1 shape: (128, 8)\n",
            "b1 shape: (8,)\n",
            "b1 shape = (8,)\n",
            "a0 shape = (1, 128)\n",
            "tuloksen shape =  (8,)\n",
            "tuloksen shape =  (8,)\n",
            "tuloksen shape =  (8,)\n",
            "tuloksen shape =  (8,)\n",
            "tuloksen shape =  (8,)\n",
            "tuloksen shape =  (8,)\n",
            "tuloksen shape =  (8,)\n",
            "tuloksen shape =  (8,)\n",
            "omaDense2 tulos: [28.75367655 32.89268174 29.06856217 29.78238545 32.44527725 33.90967646\n",
            " 29.82759266 29.85583599]\n",
            "dense2 tulos: [[28.753675 32.89268  29.068562 29.782387 32.44528  33.90968  29.827593\n",
            "  29.855837]]\n"
          ]
        }
      ]
    },
    {
      "cell_type": "code",
      "source": [
        "#def spectrogram():\n",
        "#def resizing():\n",
        "#def normalization():\n",
        "#def convolution_1():\n",
        "#def convolution_2():\n",
        "#def maxPooling():\n",
        "#def flattenJaDense1():\n",
        "#def dense2(): tämä on tehty"
      ],
      "metadata": {
        "id": "MTOEZ_GwhuJr"
      },
      "execution_count": null,
      "outputs": []
    },
    {
      "cell_type": "code",
      "source": [
        "'''#tämä on esimerkkiohjelma\n",
        "def get_spectrogram(waveform):                                                  #muuntaa aaltomuodon (waveform) spektrogrammiksi\n",
        "  # Convert the waveform to a spectrogram via a STFT.\n",
        "  spectrogram = tf.signal.stft(\n",
        "      waveform, frame_length=255, frame_step=128)\n",
        "  # Obtain the magnitude of the STFT.\n",
        "  spectrogram = tf.abs(spectrogram)\n",
        "  # Add a `channels` dimension, so that the spectrogram can be used\n",
        "  # as image-like input data with convolution layers (which expect\n",
        "  # shape (`batch_size`, `height`, `width`, `channels`).\n",
        "  spectrogram = spectrogram[..., tf.newaxis]\n",
        "  return spectrogram\n",
        "'''"
      ],
      "metadata": {
        "id": "LlWiqVMambgu",
        "colab": {
          "base_uri": "https://localhost:8080/",
          "height": 122
        },
        "outputId": "1444223e-e2c0-4f73-db02-ee18cdc020ae"
      },
      "execution_count": null,
      "outputs": [
        {
          "output_type": "execute_result",
          "data": {
            "text/plain": [
              "'#tämä on esimerkkiohjelma\\ndef get_spectrogram(waveform):                                                  #muuntaa aaltomuodon (waveform) spektrogrammiksi\\n  # Convert the waveform to a spectrogram via a STFT.\\n  spectrogram = tf.signal.stft(\\n      waveform, frame_length=255, frame_step=128)\\n  # Obtain the magnitude of the STFT.\\n  spectrogram = tf.abs(spectrogram)\\n  # Add a `channels` dimension, so that the spectrogram can be used\\n  # as image-like input data with convolution layers (which expect\\n  # shape (`batch_size`, `height`, `width`, `channels`).\\n  spectrogram = spectrogram[..., tf.newaxis]\\n  return spectrogram\\n'"
            ],
            "application/vnd.google.colaboratory.intrinsic+json": {
              "type": "string"
            }
          },
          "metadata": {},
          "execution_count": 55
        }
      ]
    },
    {
      "cell_type": "code",
      "source": [
        "def get_spectrogram(waveform):                                                  #muuntaa aaltomuodon (waveform) spektrogrammiksi\n",
        "  # Convert the waveform to a spectrogram via a STFT.\n",
        "  spectrogram = tf.signal.stft(\n",
        "      waveform, frame_length=255, frame_step=128)\n",
        "  # Obtain the magnitude of the STFT.\n",
        "  spectrogram = tf.abs(spectrogram)\n",
        "  # Add a `channels` dimension, so that the spectrogram can be used\n",
        "  # as image-like input data with convolution layers (which expect\n",
        "  # shape (`batch_size`, `height`, `width`, `channels`).\n",
        "  spectrogram = spectrogram[..., tf.newaxis]\n",
        "  return spectrogram\n",
        "\n",
        "#tässä on oma get_spectrogram (joka on käytännössä sama kuin malli)\n",
        "\n",
        "def oma_get_spectrogram(waveform):\n",
        "\n",
        "    oma_spectrogram = np.zeros((124,129))\n",
        "\n",
        "    for m in range(124):\n",
        "        pala = waveform[128*m : 128*(m+1)+128]\n",
        "\n",
        "        # Luo Hamming-ikkunafunktio, joka on saman pituinen kuin pala\n",
        "        window = np.hamming(len(pala))\n",
        "\n",
        "        # Kerrotaan pala ikkunafunktiolla\n",
        "        ikkunallinen_pala = pala * window\n",
        "\n",
        "        fft_result = np.fft.fft(ikkunallinen_pala)  # n=256 pituus\n",
        "        #print(\"fft result shape\", fft_result.shape)\n",
        "        oma_spectrogram[m, :] = np.abs(fft_result[0:129])  # Ota vain ensimmäiset 129 arvoa\n",
        "\n",
        "    # Tulostetaan spektrikuvan muoto ja joitain tilastoja\n",
        "    print(\"oma_get_spectrogram shape =\", oma_spectrogram.shape)\n",
        "\n",
        "    return oma_spectrogram\n",
        "\n",
        "def plot_spectrogram(spectrogram, ax):\n",
        "  if len(spectrogram.shape) > 2:\n",
        "    assert len(spectrogram.shape) == 3\n",
        "    spectrogram = np.squeeze(spectrogram, axis=-1)\n",
        "  # Convert the frequencies to log scale and transpose, so that the time is\n",
        "  # represented on the x-axis (columns).\n",
        "  # Add an epsilon to avoid taking a log of zero.\n",
        "  log_spec = np.log(spectrogram.T + np.finfo(float).eps)\n",
        "  height = log_spec.shape[0]\n",
        "  width = log_spec.shape[1]\n",
        "  X = np.linspace(0, width, num=width)  # Aikajakso x-akselilla\n",
        "  Y = np.arange(height)\n",
        "  ax.pcolormesh(X, Y, log_spec, shading='auto')\n",
        "\n",
        "def oma_plot_spectrogram(spectrogram, ax):\n",
        "  if len(spectrogram.shape) > 2:\n",
        "    assert len(spectrogram.shape) == 3\n",
        "    spectrogram = np.squeeze(spectrogram, axis=-1)\n",
        "  # Convert the frequencies to log scale and transpose, so that the time is\n",
        "  # represented on the x-axis (columns).\n",
        "  # Add an epsilon to avoid taking a log of zero.\n",
        "  log_spec = np.log(spectrogram + np.finfo(float).eps)\n",
        "  height = log_spec.shape[0]\n",
        "  width = log_spec.shape[1]\n",
        "  X = np.linspace(0, width, num=width)  # Aikajakso x-akselilla\n",
        "  Y = np.arange(height)\n",
        "  ax.pcolormesh(X, Y, log_spec, shading='auto')\n",
        "\n",
        "# Load the sample audio file (no/01bb6a2a_nohash_0.wav)\n",
        "#data_dir = pathlib.Path(\"path_to_your_audio_files\")\n",
        "audio_path = data_dir / 'no/01bb6a2a_nohash_0.wav'\n",
        "\n",
        "# Read the audio file using TensorFlow\n",
        "audio_binary = tf.io.read_file(str(audio_path))\n",
        "waveform, sample_rate = tf.audio.decode_wav(audio_binary, desired_channels=1)\n",
        "\n",
        "# Remove the unnecessary channel dimension\n",
        "waveform = tf.squeeze(waveform, axis=-1)\n",
        "\n",
        "# Compute the spectrograms using both methods\n",
        "spectrogram = get_spectrogram(waveform)\n",
        "oma_spectrogram = oma_get_spectrogram(waveform)\n",
        "\n",
        "fig, axes = plt.subplots(2, figsize=(12, 8))\n",
        "\n",
        "plot_spectrogram(spectrogram.numpy(), axes[0])\n",
        "axes[0].set_title('Spectrogram')\n",
        "\n",
        "plot_spectrogram(oma_spectrogram, axes[1])\n",
        "axes[1].set_title('Oma Spectrogram')\n",
        "plt.show()"
      ],
      "metadata": {
        "id": "CWrc4HUUjh4P",
        "colab": {
          "base_uri": "https://localhost:8080/",
          "height": 627
        },
        "outputId": "6169a9cb-44a7-4930-c438-0195c1af6444"
      },
      "execution_count": null,
      "outputs": [
        {
          "output_type": "stream",
          "name": "stdout",
          "text": [
            "oma_get_spectrogram shape = (124, 129)\n"
          ]
        },
        {
          "output_type": "display_data",
          "data": {
            "text/plain": [
              "<Figure size 1200x800 with 2 Axes>"
            ],
            "image/png": "[encoded data removed]"
          },
          "metadata": {}
        }
      ]
    },
    {
      "cell_type": "markdown",
      "source": [],
      "metadata": {
        "id": "KmwRDTKQ18Fa"
      }
    },
    {
      "cell_type": "markdown",
      "source": [],
      "metadata": {
        "id": "R_TwMVQxh7Q2"
      }
    },
    {
      "cell_type": "code",
      "source": [
        "def resizing(input, target_size=(32, 32)):\n",
        "    # Muutetaan input-kuvan kokoa 32x32 kokoiseksi\n",
        "    resized_input = tf.image.resize(input, target_size)\n",
        "    resized_input = resized_input.numpy()  # Muunnetaan NumPy-taulukoksi jatkokäsittelyä varten\n",
        "    print(\"resizing input shape =\", input.shape)\n",
        "    print(\"resizing output shape =\", resized_input.shape)\n",
        "    return resized_input\n",
        "\n",
        "def normalization(input):\n",
        "\n",
        "    print(\"get layer weights\", get_layer_weights('normalization',model))\n",
        "    m,v,a = get_layer_weights(\"normalization\",model)\n",
        "    print(\"normalization input shape =\", input.shape)\n",
        "\n",
        "    return (input - m) / np.sqrt(v)\n",
        "\n",
        "def convolution1(input, name):\n",
        "    # Haetaan suodatin ja bias\n",
        "    w1, b1 = get_layer_weights(name, model)  # Haetaan painot ja bias kerrokselle\n",
        "\n",
        "    print(\"convolution1 input shape =\", input.shape)\n",
        "\n",
        "    # Oletetaan, että suodatin on muotoa (3, 3, 1, num_filters)\n",
        "    kernel_height, kernel_width, input_channels, num_filters = w1.shape\n",
        "\n",
        "    # Määritellään tulosmatriisi\n",
        "    output_height = input.shape[1] - kernel_height + 1  # Tuloksen korkeus\n",
        "    output_width = input.shape[2] - kernel_width + 1    # Tuloksen leveys\n",
        "    conv1_output = np.zeros((1, output_height, output_width, num_filters))  # Muoto: (1, h, w, n)\n",
        "\n",
        "    # Suoritetaan konvoluutio\n",
        "    for f in range(num_filters):  # Käsitellään jokainen suodatin\n",
        "        for h in range(output_height):\n",
        "            for w in range(output_width):\n",
        "                # Otetaan 3x3 alue syötteestä\n",
        "                region = input[0, h:h + kernel_height, w:w + kernel_width, 0]  # Input on muotoa (1, 32, 32, 1)\n",
        "                # Lasketaan konvoluutio: alue * suodatin + bias\n",
        "                conv1_output[0, h, w, f] = np.sum(region * w1[:, :, 0, f]) + b1[f]\n",
        "\n",
        "                # ReLU-aktivaatio\n",
        "                conv1_output[0, h, w, f] = max(0, conv1_output[0, h, w, f])\n",
        "\n",
        "    print(\"convolution1 output shape =\", conv1_output.shape)\n",
        "    return conv1_output\n",
        "\n",
        "\n",
        "def maxPooling(input, pool_size=(2,2)):\n",
        "\n",
        "  batch_size, input_height, input_width, input_channels = input.shape\n",
        "  pool_height, pool_width = pool_size\n",
        "\n",
        "  output_height = input_height // pool_height # Lasketaan tulosmatriisin dimensio (olettaen ettei reunapikseleitä paddingillä käsitellä)\n",
        "  output_width = input_width // pool_width\n",
        "\n",
        "  output = np.zeros((batch_size, output_height, output_width, input_channels)) #luodaan tyhjä matriisi poolauksen tuloksille\n",
        "\n",
        "  for b in range(batch_size):\n",
        "    for c in range(input_channels):\n",
        "      for i in range(output_height): #käydään syötematriisi läpi liukuvalla 2x2 ikkunalla\n",
        "        for j in range(output_width):\n",
        "            window = input[b, i*pool_height:(i+1)*pool_height, j*pool_width:(j+1)*pool_width, c]\n",
        "            output[b, i, j, c] = np.max(window)\n",
        "\n",
        "  print(\"maxPooling input shape =\", input.shape)\n",
        "  print(\"maxPooling output shape =\", output.shape)\n",
        "\n",
        "  return output\n",
        "\n",
        "def convolution_2(input, name):\n",
        "\n",
        "    # Haetaan suodatin ja bias\n",
        "    w2, b2 = get_layer_weights(name, model)\n",
        "\n",
        "    print(\"convolution_2 input shape =\", input.shape)\n",
        "\n",
        "    # Oletetaan, että suodatin on muotoa (3, 3, 128, 128) (korkeus, leveys, syvyys, suodattimien määrä)\n",
        "    kernel_height, kernel_width, input_channels, num_filters = w2.shape\n",
        "\n",
        "    # Määritellään tulosmatriisi\n",
        "    output_height = input.shape[1] - kernel_height + 1  # Tämä on korkeus\n",
        "    output_width = input.shape[2] - kernel_width + 1    # Tämä on leveys\n",
        "    conv2_output = np.zeros((1, output_height, output_width, num_filters))  # Muoto: (1, h, w, n)\n",
        "\n",
        "    # Suoritetaan konvoluutio\n",
        "    for f in range(num_filters):\n",
        "        for h in range(output_height):\n",
        "            for w in range(output_width):\n",
        "                # Suoritetaan konvoluutio\n",
        "                region = input[0, h:h + kernel_height, w:w + kernel_width, :]\n",
        "                conv2_output[0, h, w, f] = np.sum(region * w2[:, :, :, f]) + b2[f]\n",
        "                if conv2_output[0, h, w, f] < 0:\n",
        "                    conv2_output[0, h, w, f] = 0\n",
        "\n",
        "    print(\"convolution_2 output shape =\", conv2_output.shape)\n",
        "    #print(\"Example conv2_output values:\", conv2_output[0, :, :, :])\n",
        "    return conv2_output\n",
        "\n",
        "def maxPoolingSpecial(input):\n",
        "\n",
        "  input = input.reshape(2,2,128)\n",
        "  tulos= np.zeros((1,1,128)) #luodaan tyhjä matriisi poolauksen tuloksille\n",
        "\n",
        "  for i in range(128):\n",
        "    tulos[:,:,i] = np.max(input[:,:,i])\n",
        "\n",
        "\n",
        "  print(\"maxPooling input shape =\", input.shape)\n",
        "  print(\"maxPooling tulos shape =\", tulos.shape)\n",
        "\n",
        "  return tulos\n",
        "\n",
        "def flattenJaDense1(input):\n",
        "\n",
        "    input = input.reshape(128)\n",
        "    w2,b2 = get_layer_weights(\"dense\",model)\n",
        "\n",
        "    print(\"input shape =\", input.shape)\n",
        "    print(\"w2 shape = \", w2.shape)\n",
        "    print(\"b2 shape = \", b2.shape)\n",
        "    print(\"shape nollassa = \", w2.shape[0])\n",
        "\n",
        "    tulos = np.zeros(256)\n",
        "\n",
        "    # Lisää Dense-kerros\n",
        "    tulos = np.matmul(input, w2) + b2\n",
        "    for i in range(256):\n",
        "      if tulos[i] < 0:\n",
        "        tulos[i] = 0\n",
        "\n",
        "    print(\"tulos shape = \", tulos.shape)\n",
        "\n",
        "    return tulos\n",
        "\n",
        "def omaDense2(a0,w1,b1):\n",
        "\n",
        "  w1,b1 = get_layer_weights(\"dense_1\",model)\n",
        "  a0 = a0.reshape(1,-1)\n",
        "\n",
        "  tulos = np.zeros(b1.shape)  #Luodaan nollavektori, jonka pituus on 8, eli biasin koko\n",
        "  print(\"b1 shape =\", b1.shape)\n",
        "  print(\"a0 shape =\", a0.shape)\n",
        "\n",
        "  for n in range(b1.shape[0]): #Ulompi silmukka käy läpi jokaisen tulosvektorin elementin\n",
        "    for w in range(a0.shape[1]): #Sisempi silmukka käy läpi kaikki sisääntulon painot ja suorittaa summaoperaation\n",
        "      tulos[n] += a0[0, w] * w1[w, n]  #kerrotaan sisääntulo ja painot\n",
        "    tulos[n] += b1[n] #lisätään bias tulosvektorin n:nelle elementille\n",
        "\n",
        "    print(\"tuloksen shape = \", tulos.shape)\n",
        "  return tulos #palautetaan lopullinen tulos, joka on vektori\n",
        "\n",
        "#tässä haetaan tiedostosta x (voit muuttaa tiedoston nimeä)\n",
        "\n",
        "x = data_dir/'go/0137b3f4_nohash_4.wav'\n",
        "x = tf.io.read_file(str(x))\n",
        "x, sample_rate = tf.audio.decode_wav(x, desired_channels=1, desired_samples=16000,)\n",
        "x = tf.squeeze(x, axis=-1)\n",
        "x = get_spectrogram(x)\n",
        "x = x[tf.newaxis,...]\n",
        "print(\"x shape\", x.shape)\n",
        "\n",
        "y = data_dir/'go/0137b3f4_nohash_4.wav'\n",
        "y = tf.io.read_file(str(y))\n",
        "y, sample_rate = tf.audio.decode_wav(y, desired_channels=1, desired_samples=16000,)\n",
        "y = tf.squeeze(y, axis=-1)\n",
        "y = oma_get_spectrogram(y)\n",
        "y = y[tf.newaxis,...]\n",
        "\n",
        "#testataan x-arvoa\n",
        "\n",
        "(start, layer, end) = get_reference_layer(\"resizing\", model)\n",
        "\n",
        "input = start(y)\n",
        "\n",
        "output = layer(input)\n",
        "\n",
        "original_result = model(x)\n",
        "\n",
        "resizing_result = resizing(input)\n",
        "\n",
        "normalization_result = normalization(resizing_result)\n",
        "\n",
        "convolution_result = convolution1(normalization_result, \"conv2d\")\n",
        "\n",
        "maxPooling1_result = maxPooling(convolution_result)\n",
        "\n",
        "convolution0_result = convolution_2(maxPooling1_result, \"conv2d_1\")\n",
        "\n",
        "maxPooling2_result = maxPooling(convolution0_result)\n",
        "\n",
        "convolution1_result = convolution_2(maxPooling2_result, \"conv2d_2\")\n",
        "\n",
        "convolution2_result = convolution_2(convolution1_result, \"conv2d_3\")\n",
        "\n",
        "maxPooling_result = maxPoolingSpecial(convolution2_result)\n",
        "\n",
        "flattenJaDense1_result = flattenJaDense1(maxPooling_result)\n",
        "\n",
        "omaDense2_result = omaDense2(flattenJaDense1_result,w1,b1)\n",
        "\n",
        "omaDense2_result = omaDense2_result.reshape(1,-1)\n",
        "\n",
        "print(\"omaDense2 result =\", omaDense2_result)\n",
        "print(\"original result =\", original_result)\n",
        "\n",
        "# Plotataan tulokset\n",
        "x_labels = ['down', 'go', 'left', 'no', 'right', 'stop', 'up', 'yes']\n",
        "\n",
        "plt.figure(1, figsize=(12, 8))\n",
        "\n",
        "plt.subplot(1, 2, 1)\n",
        "plt.bar(x_labels, tf.nn.softmax(tf.reshape(original_result[-1], [-1])[:8]))\n",
        "plt.title('Original Dense1 Result')\n",
        "\n",
        "plt.subplot(1, 2, 2)\n",
        "plt.bar(x_labels, tf.nn.softmax(tf.reshape(omaDense2_result[-1], [-1])[:8]))\n",
        "plt.title('OmaDense2 Result')\n",
        "\n",
        "plt.tight_layout()\n",
        "plt.show()\n"
      ],
      "metadata": {
        "id": "B2kbwgg-sVNt",
        "colab": {
          "base_uri": "https://localhost:8080/",
          "height": 1000
        },
        "outputId": "98780ff2-f32a-461f-faf6-0a3758ef8f80",
        "collapsed": true
      },
      "execution_count": null,
      "outputs": [
        {
          "output_type": "stream",
          "name": "stdout",
          "text": [
            "x shape (1, 124, 129, 1)\n",
            "oma_get_spectrogram shape = (124, 129)\n",
            "resizing input shape = (1, 124, 129, 1)\n",
            "resizing output shape = (1, 32, 32, 1)\n",
            "get layer weights [array([0.12540941], dtype=float32), array([0.5840317], dtype=float32), 0]\n",
            "normalization input shape = (1, 32, 32, 1)\n",
            "convolution1 input shape = (1, 32, 32, 1)\n",
            "convolution1 output shape = (1, 30, 30, 32)\n",
            "maxPooling input shape = (1, 30, 30, 32)\n",
            "maxPooling output shape = (1, 15, 15, 32)\n",
            "convolution_2 input shape = (1, 15, 15, 32)\n",
            "convolution_2 output shape = (1, 13, 13, 64)\n",
            "maxPooling input shape = (1, 13, 13, 64)\n",
            "maxPooling output shape = (1, 6, 6, 64)\n",
            "convolution_2 input shape = (1, 6, 6, 64)\n",
            "convolution_2 output shape = (1, 4, 4, 128)\n",
            "convolution_2 input shape = (1, 4, 4, 128)\n",
            "convolution_2 output shape = (1, 2, 2, 128)\n",
            "maxPooling input shape = (2, 2, 128)\n",
            "maxPooling tulos shape = (1, 1, 128)\n",
            "input shape = (128,)\n",
            "w2 shape =  (128, 256)\n",
            "b2 shape =  (256,)\n",
            "shape nollassa =  128\n",
            "tulos shape =  (256,)\n",
            "b1 shape = (8,)\n",
            "a0 shape = (1, 256)\n",
            "tuloksen shape =  (8,)\n",
            "tuloksen shape =  (8,)\n",
            "tuloksen shape =  (8,)\n",
            "tuloksen shape =  (8,)\n",
            "tuloksen shape =  (8,)\n",
            "tuloksen shape =  (8,)\n",
            "tuloksen shape =  (8,)\n",
            "tuloksen shape =  (8,)\n",
            "omaDense2 result = [[  3.92547875  11.81604141 -11.3667973    9.38174406 -12.79371501\n",
            "   -6.50838001  -9.08503319 -14.43533587]]\n",
            "original result = tf.Tensor(\n",
            "[[  3.986554   11.707775  -11.470451    9.500867  -12.700405   -6.6965194\n",
            "   -9.146437  -14.240546 ]], shape=(1, 8), dtype=float32)\n"
          ]
        },
        {
          "output_type": "display_data",
          "data": {
            "text/plain": [
              "<Figure size 1200x800 with 2 Axes>"
            ],
            "image/png": "[encoded data removed]"
          },
          "metadata": {}
        }
      ]
    },
    {
      "cell_type": "code",
      "source": [
        "print(model.summary())"
      ],
      "metadata": {
        "id": "m9TUw2LQV0nP",
        "colab": {
          "base_uri": "https://localhost:8080/",
          "height": 610
        },
        "outputId": "922ae4fa-1fa3-4640-cf0c-507f07a783e8"
      },
      "execution_count": null,
      "outputs": [
        {
          "output_type": "display_data",
          "data": {
            "text/plain": [
              "\u001b[1mModel: \"sequential\"\u001b[0m\n"
            ],
            "text/html": [
              "<pre style=\"white-space:pre;overflow-x:auto;line-height:normal;font-family:Menlo,'DejaVu Sans Mono',consolas,'Courier New',monospace\"><span style=\"font-weight: bold\">Model: \"sequential\"</span>\n",
              "</pre>\n"
            ]
          },
          "metadata": {}
        },
        {
          "output_type": "display_data",
          "data": {
            "text/plain": [
              "┏━━━━━━━━━━━━━━━━━━━━━━━━━━━━━━━━━━━━━━┳━━━━━━━━━━━━━━━━━━━━━━━━━━━━━┳━━━━━━━━━━━━━━━━━┓\n",
              "┃\u001b[1m \u001b[0m\u001b[1mLayer (type)                        \u001b[0m\u001b[1m \u001b[0m┃\u001b[1m \u001b[0m\u001b[1mOutput Shape               \u001b[0m\u001b[1m \u001b[0m┃\u001b[1m \u001b[0m\u001b[1m        Param #\u001b[0m\u001b[1m \u001b[0m┃\n",
              "┡━━━━━━━━━━━━━━━━━━━━━━━━━━━━━━━━━━━━━━╇━━━━━━━━━━━━━━━━━━━━━━━━━━━━━╇━━━━━━━━━━━━━━━━━┩\n",
              "│ resizing (\u001b[38;5;33mResizing\u001b[0m)                  │ (\u001b[38;5;45mNone\u001b[0m, \u001b[38;5;34m32\u001b[0m, \u001b[38;5;34m32\u001b[0m, \u001b[38;5;34m1\u001b[0m)           │               \u001b[38;5;34m0\u001b[0m │\n",
              "├──────────────────────────────────────┼─────────────────────────────┼─────────────────┤\n",
              "│ normalization (\u001b[38;5;33mNormalization\u001b[0m)        │ (\u001b[38;5;45mNone\u001b[0m, \u001b[38;5;34m32\u001b[0m, \u001b[38;5;34m32\u001b[0m, \u001b[38;5;34m1\u001b[0m)           │               \u001b[38;5;34m3\u001b[0m │\n",
              "├──────────────────────────────────────┼─────────────────────────────┼─────────────────┤\n",
              "│ conv2d (\u001b[38;5;33mConv2D\u001b[0m)                      │ (\u001b[38;5;45mNone\u001b[0m, \u001b[38;5;34m30\u001b[0m, \u001b[38;5;34m30\u001b[0m, \u001b[38;5;34m32\u001b[0m)          │             \u001b[38;5;34m320\u001b[0m │\n",
              "├──────────────────────────────────────┼─────────────────────────────┼─────────────────┤\n",
              "│ max_pooling2d (\u001b[38;5;33mMaxPooling2D\u001b[0m)         │ (\u001b[38;5;45mNone\u001b[0m, \u001b[38;5;34m15\u001b[0m, \u001b[38;5;34m15\u001b[0m, \u001b[38;5;34m32\u001b[0m)          │               \u001b[38;5;34m0\u001b[0m │\n",
              "├──────────────────────────────────────┼─────────────────────────────┼─────────────────┤\n",
              "│ conv2d_1 (\u001b[38;5;33mConv2D\u001b[0m)                    │ (\u001b[38;5;45mNone\u001b[0m, \u001b[38;5;34m13\u001b[0m, \u001b[38;5;34m13\u001b[0m, \u001b[38;5;34m64\u001b[0m)          │          \u001b[38;5;34m18,496\u001b[0m │\n",
              "├──────────────────────────────────────┼─────────────────────────────┼─────────────────┤\n",
              "│ max_pooling2d_1 (\u001b[38;5;33mMaxPooling2D\u001b[0m)       │ (\u001b[38;5;45mNone\u001b[0m, \u001b[38;5;34m6\u001b[0m, \u001b[38;5;34m6\u001b[0m, \u001b[38;5;34m64\u001b[0m)            │               \u001b[38;5;34m0\u001b[0m │\n",
              "├──────────────────────────────────────┼─────────────────────────────┼─────────────────┤\n",
              "│ conv2d_2 (\u001b[38;5;33mConv2D\u001b[0m)                    │ (\u001b[38;5;45mNone\u001b[0m, \u001b[38;5;34m4\u001b[0m, \u001b[38;5;34m4\u001b[0m, \u001b[38;5;34m128\u001b[0m)           │          \u001b[38;5;34m73,856\u001b[0m │\n",
              "├──────────────────────────────────────┼─────────────────────────────┼─────────────────┤\n",
              "│ conv2d_3 (\u001b[38;5;33mConv2D\u001b[0m)                    │ (\u001b[38;5;45mNone\u001b[0m, \u001b[38;5;34m2\u001b[0m, \u001b[38;5;34m2\u001b[0m, \u001b[38;5;34m128\u001b[0m)           │         \u001b[38;5;34m147,584\u001b[0m │\n",
              "├──────────────────────────────────────┼─────────────────────────────┼─────────────────┤\n",
              "│ max_pooling2d_2 (\u001b[38;5;33mMaxPooling2D\u001b[0m)       │ (\u001b[38;5;45mNone\u001b[0m, \u001b[38;5;34m1\u001b[0m, \u001b[38;5;34m1\u001b[0m, \u001b[38;5;34m128\u001b[0m)           │               \u001b[38;5;34m0\u001b[0m │\n",
              "├──────────────────────────────────────┼─────────────────────────────┼─────────────────┤\n",
              "│ dropout (\u001b[38;5;33mDropout\u001b[0m)                    │ (\u001b[38;5;45mNone\u001b[0m, \u001b[38;5;34m1\u001b[0m, \u001b[38;5;34m1\u001b[0m, \u001b[38;5;34m128\u001b[0m)           │               \u001b[38;5;34m0\u001b[0m │\n",
              "├──────────────────────────────────────┼─────────────────────────────┼─────────────────┤\n",
              "│ flatten (\u001b[38;5;33mFlatten\u001b[0m)                    │ (\u001b[38;5;45mNone\u001b[0m, \u001b[38;5;34m128\u001b[0m)                 │               \u001b[38;5;34m0\u001b[0m │\n",
              "├──────────────────────────────────────┼─────────────────────────────┼─────────────────┤\n",
              "│ dense (\u001b[38;5;33mDense\u001b[0m)                        │ (\u001b[38;5;45mNone\u001b[0m, \u001b[38;5;34m256\u001b[0m)                 │          \u001b[38;5;34m33,024\u001b[0m │\n",
              "├──────────────────────────────────────┼─────────────────────────────┼─────────────────┤\n",
              "│ dropout_1 (\u001b[38;5;33mDropout\u001b[0m)                  │ (\u001b[38;5;45mNone\u001b[0m, \u001b[38;5;34m256\u001b[0m)                 │               \u001b[38;5;34m0\u001b[0m │\n",
              "├──────────────────────────────────────┼─────────────────────────────┼─────────────────┤\n",
              "│ dense_1 (\u001b[38;5;33mDense\u001b[0m)                      │ (\u001b[38;5;45mNone\u001b[0m, \u001b[38;5;34m8\u001b[0m)                   │           \u001b[38;5;34m2,056\u001b[0m │\n",
              "└──────────────────────────────────────┴─────────────────────────────┴─────────────────┘\n"
            ],
            "text/html": [
              "<pre style=\"white-space:pre;overflow-x:auto;line-height:normal;font-family:Menlo,'DejaVu Sans Mono',consolas,'Courier New',monospace\">┏━━━━━━━━━━━━━━━━━━━━━━━━━━━━━━━━━━━━━━┳━━━━━━━━━━━━━━━━━━━━━━━━━━━━━┳━━━━━━━━━━━━━━━━━┓\n",
              "┃<span style=\"font-weight: bold\"> Layer (type)                         </span>┃<span style=\"font-weight: bold\"> Output Shape                </span>┃<span style=\"font-weight: bold\">         Param # </span>┃\n",
              "┡━━━━━━━━━━━━━━━━━━━━━━━━━━━━━━━━━━━━━━╇━━━━━━━━━━━━━━━━━━━━━━━━━━━━━╇━━━━━━━━━━━━━━━━━┩\n",
              "│ resizing (<span style=\"color: #0087ff; text-decoration-color: #0087ff\">Resizing</span>)                  │ (<span style=\"color: #00d7ff; text-decoration-color: #00d7ff\">None</span>, <span style=\"color: #00af00; text-decoration-color: #00af00\">32</span>, <span style=\"color: #00af00; text-decoration-color: #00af00\">32</span>, <span style=\"color: #00af00; text-decoration-color: #00af00\">1</span>)           │               <span style=\"color: #00af00; text-decoration-color: #00af00\">0</span> │\n",
              "├──────────────────────────────────────┼─────────────────────────────┼─────────────────┤\n",
              "│ normalization (<span style=\"color: #0087ff; text-decoration-color: #0087ff\">Normalization</span>)        │ (<span style=\"color: #00d7ff; text-decoration-color: #00d7ff\">None</span>, <span style=\"color: #00af00; text-decoration-color: #00af00\">32</span>, <span style=\"color: #00af00; text-decoration-color: #00af00\">32</span>, <span style=\"color: #00af00; text-decoration-color: #00af00\">1</span>)           │               <span style=\"color: #00af00; text-decoration-color: #00af00\">3</span> │\n",
              "├──────────────────────────────────────┼─────────────────────────────┼─────────────────┤\n",
              "│ conv2d (<span style=\"color: #0087ff; text-decoration-color: #0087ff\">Conv2D</span>)                      │ (<span style=\"color: #00d7ff; text-decoration-color: #00d7ff\">None</span>, <span style=\"color: #00af00; text-decoration-color: #00af00\">30</span>, <span style=\"color: #00af00; text-decoration-color: #00af00\">30</span>, <span style=\"color: #00af00; text-decoration-color: #00af00\">32</span>)          │             <span style=\"color: #00af00; text-decoration-color: #00af00\">320</span> │\n",
              "├──────────────────────────────────────┼─────────────────────────────┼─────────────────┤\n",
              "│ max_pooling2d (<span style=\"color: #0087ff; text-decoration-color: #0087ff\">MaxPooling2D</span>)         │ (<span style=\"color: #00d7ff; text-decoration-color: #00d7ff\">None</span>, <span style=\"color: #00af00; text-decoration-color: #00af00\">15</span>, <span style=\"color: #00af00; text-decoration-color: #00af00\">15</span>, <span style=\"color: #00af00; text-decoration-color: #00af00\">32</span>)          │               <span style=\"color: #00af00; text-decoration-color: #00af00\">0</span> │\n",
              "├──────────────────────────────────────┼─────────────────────────────┼─────────────────┤\n",
              "│ conv2d_1 (<span style=\"color: #0087ff; text-decoration-color: #0087ff\">Conv2D</span>)                    │ (<span style=\"color: #00d7ff; text-decoration-color: #00d7ff\">None</span>, <span style=\"color: #00af00; text-decoration-color: #00af00\">13</span>, <span style=\"color: #00af00; text-decoration-color: #00af00\">13</span>, <span style=\"color: #00af00; text-decoration-color: #00af00\">64</span>)          │          <span style=\"color: #00af00; text-decoration-color: #00af00\">18,496</span> │\n",
              "├──────────────────────────────────────┼─────────────────────────────┼─────────────────┤\n",
              "│ max_pooling2d_1 (<span style=\"color: #0087ff; text-decoration-color: #0087ff\">MaxPooling2D</span>)       │ (<span style=\"color: #00d7ff; text-decoration-color: #00d7ff\">None</span>, <span style=\"color: #00af00; text-decoration-color: #00af00\">6</span>, <span style=\"color: #00af00; text-decoration-color: #00af00\">6</span>, <span style=\"color: #00af00; text-decoration-color: #00af00\">64</span>)            │               <span style=\"color: #00af00; text-decoration-color: #00af00\">0</span> │\n",
              "├──────────────────────────────────────┼─────────────────────────────┼─────────────────┤\n",
              "│ conv2d_2 (<span style=\"color: #0087ff; text-decoration-color: #0087ff\">Conv2D</span>)                    │ (<span style=\"color: #00d7ff; text-decoration-color: #00d7ff\">None</span>, <span style=\"color: #00af00; text-decoration-color: #00af00\">4</span>, <span style=\"color: #00af00; text-decoration-color: #00af00\">4</span>, <span style=\"color: #00af00; text-decoration-color: #00af00\">128</span>)           │          <span style=\"color: #00af00; text-decoration-color: #00af00\">73,856</span> │\n",
              "├──────────────────────────────────────┼─────────────────────────────┼─────────────────┤\n",
              "│ conv2d_3 (<span style=\"color: #0087ff; text-decoration-color: #0087ff\">Conv2D</span>)                    │ (<span style=\"color: #00d7ff; text-decoration-color: #00d7ff\">None</span>, <span style=\"color: #00af00; text-decoration-color: #00af00\">2</span>, <span style=\"color: #00af00; text-decoration-color: #00af00\">2</span>, <span style=\"color: #00af00; text-decoration-color: #00af00\">128</span>)           │         <span style=\"color: #00af00; text-decoration-color: #00af00\">147,584</span> │\n",
              "├──────────────────────────────────────┼─────────────────────────────┼─────────────────┤\n",
              "│ max_pooling2d_2 (<span style=\"color: #0087ff; text-decoration-color: #0087ff\">MaxPooling2D</span>)       │ (<span style=\"color: #00d7ff; text-decoration-color: #00d7ff\">None</span>, <span style=\"color: #00af00; text-decoration-color: #00af00\">1</span>, <span style=\"color: #00af00; text-decoration-color: #00af00\">1</span>, <span style=\"color: #00af00; text-decoration-color: #00af00\">128</span>)           │               <span style=\"color: #00af00; text-decoration-color: #00af00\">0</span> │\n",
              "├──────────────────────────────────────┼─────────────────────────────┼─────────────────┤\n",
              "│ dropout (<span style=\"color: #0087ff; text-decoration-color: #0087ff\">Dropout</span>)                    │ (<span style=\"color: #00d7ff; text-decoration-color: #00d7ff\">None</span>, <span style=\"color: #00af00; text-decoration-color: #00af00\">1</span>, <span style=\"color: #00af00; text-decoration-color: #00af00\">1</span>, <span style=\"color: #00af00; text-decoration-color: #00af00\">128</span>)           │               <span style=\"color: #00af00; text-decoration-color: #00af00\">0</span> │\n",
              "├──────────────────────────────────────┼─────────────────────────────┼─────────────────┤\n",
              "│ flatten (<span style=\"color: #0087ff; text-decoration-color: #0087ff\">Flatten</span>)                    │ (<span style=\"color: #00d7ff; text-decoration-color: #00d7ff\">None</span>, <span style=\"color: #00af00; text-decoration-color: #00af00\">128</span>)                 │               <span style=\"color: #00af00; text-decoration-color: #00af00\">0</span> │\n",
              "├──────────────────────────────────────┼─────────────────────────────┼─────────────────┤\n",
              "│ dense (<span style=\"color: #0087ff; text-decoration-color: #0087ff\">Dense</span>)                        │ (<span style=\"color: #00d7ff; text-decoration-color: #00d7ff\">None</span>, <span style=\"color: #00af00; text-decoration-color: #00af00\">256</span>)                 │          <span style=\"color: #00af00; text-decoration-color: #00af00\">33,024</span> │\n",
              "├──────────────────────────────────────┼─────────────────────────────┼─────────────────┤\n",
              "│ dropout_1 (<span style=\"color: #0087ff; text-decoration-color: #0087ff\">Dropout</span>)                  │ (<span style=\"color: #00d7ff; text-decoration-color: #00d7ff\">None</span>, <span style=\"color: #00af00; text-decoration-color: #00af00\">256</span>)                 │               <span style=\"color: #00af00; text-decoration-color: #00af00\">0</span> │\n",
              "├──────────────────────────────────────┼─────────────────────────────┼─────────────────┤\n",
              "│ dense_1 (<span style=\"color: #0087ff; text-decoration-color: #0087ff\">Dense</span>)                      │ (<span style=\"color: #00d7ff; text-decoration-color: #00d7ff\">None</span>, <span style=\"color: #00af00; text-decoration-color: #00af00\">8</span>)                   │           <span style=\"color: #00af00; text-decoration-color: #00af00\">2,056</span> │\n",
              "└──────────────────────────────────────┴─────────────────────────────┴─────────────────┘\n",
              "</pre>\n"
            ]
          },
          "metadata": {}
        },
        {
          "output_type": "display_data",
          "data": {
            "text/plain": [
              "\u001b[1m Total params: \u001b[0m\u001b[38;5;34m826,013\u001b[0m (3.15 MB)\n"
            ],
            "text/html": [
              "<pre style=\"white-space:pre;overflow-x:auto;line-height:normal;font-family:Menlo,'DejaVu Sans Mono',consolas,'Courier New',monospace\"><span style=\"font-weight: bold\"> Total params: </span><span style=\"color: #00af00; text-decoration-color: #00af00\">826,013</span> (3.15 MB)\n",
              "</pre>\n"
            ]
          },
          "metadata": {}
        },
        {
          "output_type": "display_data",
          "data": {
            "text/plain": [
              "\u001b[1m Trainable params: \u001b[0m\u001b[38;5;34m275,336\u001b[0m (1.05 MB)\n"
            ],
            "text/html": [
              "<pre style=\"white-space:pre;overflow-x:auto;line-height:normal;font-family:Menlo,'DejaVu Sans Mono',consolas,'Courier New',monospace\"><span style=\"font-weight: bold\"> Trainable params: </span><span style=\"color: #00af00; text-decoration-color: #00af00\">275,336</span> (1.05 MB)\n",
              "</pre>\n"
            ]
          },
          "metadata": {}
        },
        {
          "output_type": "display_data",
          "data": {
            "text/plain": [
              "\u001b[1m Non-trainable params: \u001b[0m\u001b[38;5;34m3\u001b[0m (16.00 B)\n"
            ],
            "text/html": [
              "<pre style=\"white-space:pre;overflow-x:auto;line-height:normal;font-family:Menlo,'DejaVu Sans Mono',consolas,'Courier New',monospace\"><span style=\"font-weight: bold\"> Non-trainable params: </span><span style=\"color: #00af00; text-decoration-color: #00af00\">3</span> (16.00 B)\n",
              "</pre>\n"
            ]
          },
          "metadata": {}
        },
        {
          "output_type": "display_data",
          "data": {
            "text/plain": [
              "\u001b[1m Optimizer params: \u001b[0m\u001b[38;5;34m550,674\u001b[0m (2.10 MB)\n"
            ],
            "text/html": [
              "<pre style=\"white-space:pre;overflow-x:auto;line-height:normal;font-family:Menlo,'DejaVu Sans Mono',consolas,'Courier New',monospace\"><span style=\"font-weight: bold\"> Optimizer params: </span><span style=\"color: #00af00; text-decoration-color: #00af00\">550,674</span> (2.10 MB)\n",
              "</pre>\n"
            ]
          },
          "metadata": {}
        },
        {
          "output_type": "stream",
          "name": "stdout",
          "text": [
            "None\n"
          ]
        }
      ]
    },
    {
      "cell_type": "code",
      "source": [
        "#tässä on tallessa vain tämä jos kämmään:\n",
        "\n",
        "def resizing(input, target_size=(32, 32)):\n",
        "    # Muutetaan input-kuvan kokoa 32x32 kokoiseksi\n",
        "    resized_input = tf.image.resize(input, target_size)\n",
        "    resized_input = resized_input.numpy()  # Muunnetaan NumPy-taulukoksi jatkokäsittelyä varten\n",
        "    print(\"resizing input shape =\", input.shape)\n",
        "    print(\"resizing output shape =\", resized_input.shape)\n",
        "    return resized_input\n",
        "\n",
        "def normalization(input):\n",
        "    # Normalisoidaan input, esimerkiksi käyttämällä batch normalization\n",
        "    return (input - np.mean(input)) / np.std(input)\n",
        "\n",
        "def convolution1(input, name):\n",
        "    # Haetaan suodatin ja bias\n",
        "    w1, b1 = get_layer_weights(name, model)  # Haetaan painot ja bias kerrokselle\n",
        "\n",
        "    print(\"convolution1 input shape =\", input.shape)\n",
        "\n",
        "    # Oletetaan, että suodatin on muotoa (3, 3, 1, num_filters)\n",
        "    kernel_height, kernel_width, input_channels, num_filters = w1.shape\n",
        "\n",
        "    # Määritellään tulosmatriisi\n",
        "    output_height = input.shape[1] - kernel_height + 1  # Tuloksen korkeus\n",
        "    output_width = input.shape[2] - kernel_width + 1    # Tuloksen leveys\n",
        "    conv1_output = np.zeros((1, output_height, output_width, num_filters))  # Muoto: (1, h, w, n)\n",
        "\n",
        "    # Suoritetaan konvoluutio\n",
        "    for f in range(num_filters):  # Käsitellään jokainen suodatin\n",
        "        for h in range(output_height):\n",
        "            for w in range(output_width):\n",
        "                # Otetaan 3x3 alue syötteestä\n",
        "                region = input[0, h:h + kernel_height, w:w + kernel_width, 0]  # Input on muotoa (1, 32, 32, 1)\n",
        "                # Lasketaan konvoluutio: alue * suodatin + bias\n",
        "                conv1_output[0, h, w, f] = np.sum(region * w1[:, :, 0, f]) + b1[f]\n",
        "\n",
        "                # ReLU-aktivaatio\n",
        "                conv1_output[0, h, w, f] = max(0, conv1_output[0, h, w, f])\n",
        "\n",
        "    print(\"convolution1 output shape =\", conv1_output.shape)\n",
        "    return conv1_output\n",
        "\n",
        "\n",
        "def maxPooling(input, pool_size=(2,2)):\n",
        "\n",
        "  batch_size, input_height, input_width, input_channels = input.shape\n",
        "  pool_height, pool_width = pool_size\n",
        "\n",
        "  output_height = input_height // pool_height # Lasketaan tulosmatriisin dimensio (olettaen ettei reunapikseleitä paddingillä käsitellä)\n",
        "  output_width = input_width // pool_width\n",
        "\n",
        "  output = np.zeros((batch_size, output_height, output_width, input_channels)) #luodaan tyhjä matriisi poolauksen tuloksille\n",
        "\n",
        "  for b in range(batch_size):\n",
        "    for c in range(input_channels):\n",
        "      for i in range(output_height): #käydään syötematriisi läpi liukuvalla 2x2 ikkunalla\n",
        "        for j in range(output_width):\n",
        "            window = input[b, i*pool_height:(i+1)*pool_height, j*pool_width:(j+1)*pool_width, c]\n",
        "            output[b, i, j, c] = np.max(window)\n",
        "\n",
        "  print(\"maxPooling input shape =\", input.shape)\n",
        "  print(\"maxPooling output shape =\", output.shape)\n",
        "\n",
        "  return output\n",
        "\n",
        "def convolution_2(input, name):\n",
        "\n",
        "    # Haetaan suodatin ja bias\n",
        "    w2, b2 = get_layer_weights(name, model)  # Muista, että kerroksesi nimi voi olla eri\n",
        "\n",
        "    print(\"convolution_2 input shape =\", input.shape)\n",
        "\n",
        "    # Oletetaan, että suodatin on muotoa (3, 3, 128, 128) (korkeus, leveys, syvyys, suodattimien määrä)\n",
        "    kernel_height, kernel_width, input_channels, num_filters = w2.shape\n",
        "\n",
        "    # Määritellään tulosmatriisi\n",
        "    output_height = input.shape[1] - kernel_height + 1  # Tämä on korkeus\n",
        "    output_width = input.shape[2] - kernel_width + 1    # Tämä on leveys\n",
        "    conv2_output = np.zeros((1, output_height, output_width, num_filters))  # Muoto: (1, h, w, n)\n",
        "\n",
        "    # Suoritetaan konvoluutio\n",
        "    for f in range(num_filters):\n",
        "        for h in range(output_height):\n",
        "            for w in range(output_width):\n",
        "                # Suoritetaan konvoluutio\n",
        "                region = input[0, h:h + kernel_height, w:w + kernel_width, :]\n",
        "                conv2_output[0, h, w, f] = np.sum(region * w2[:, :, :, f]) + b2[f]\n",
        "                if conv2_output[0, h, w, f] < 0:\n",
        "                    conv2_output[0, h, w, f] = 0\n",
        "\n",
        "\n",
        "\n",
        "    print(\"convolution_2 output shape =\", conv2_output.shape)\n",
        "    #print(\"Example conv2_output values:\", conv2_output[0, :, :, :])\n",
        "    return conv2_output\n",
        "\n",
        "def maxPoolingSpecial(input):\n",
        "\n",
        "  print(\"maxpoolingspecial input ennen reshape =\", input.shape)\n",
        "\n",
        "  input = input.reshape(2,2,128)\n",
        "  tulos= np.zeros((1,1,128)) #luodaan tyhjä matriisi poolauksen tuloksille\n",
        "\n",
        "  for i in range(128):\n",
        "    #print(\"input =\", input[:,:,i])\n",
        "    #print(\"kierros\", i)\n",
        "    tulos[:,:,i] = np.max(input[:,:,i])\n",
        "\n",
        "\n",
        "  print(\"maxPooling input shape =\", input.shape)\n",
        "  print(\"maxPooling tulos shape =\", tulos.shape)\n",
        "\n",
        "  return tulos\n",
        "\n",
        "def flattenJaDense1(input):\n",
        "\n",
        "    input = input.reshape(128)\n",
        "    w2,b2 = get_layer_weights(\"dense\",model)\n",
        "\n",
        "    print(\"input shape =\", input.shape)\n",
        "    print(\"w2 shape = \", w2.shape)\n",
        "    print(\"b2 shape = \", b2.shape)\n",
        "    print(\"shape nollassa = \", w2.shape[0])\n",
        "\n",
        "    tulos = np.zeros(256)\n",
        "\n",
        "\n",
        "    # Lisää Dense-kerros\n",
        "    tulos = np.matmul(input, w2) + b2\n",
        "    for i in range(256):\n",
        "      if tulos[i] < 0:\n",
        "        tulos[i] = 0\n",
        "\n",
        "    print(\"tulos shape = \", tulos.shape)\n",
        "\n",
        "    return tulos #tämän shape pitää olla (1,128)\n",
        "\n",
        "def omaDense2(a0,w1,b1):\n",
        "\n",
        "  w1,b1 = get_layer_weights(\"dense_1\",model)\n",
        "  a0 = a0.reshape(1,-1)\n",
        "\n",
        "  tulos = np.zeros(b1.shape)  #Luodaan nollavektori, jonka pituus on 8, eli biasin koko\n",
        "  print(\"b1 shape =\", b1.shape)\n",
        "  print(\"a0 shape =\", a0.shape)\n",
        "\n",
        "  for n in range(b1.shape[0]): #Ulompi silmukka käy läpi jokaisen tulosvektorin elementin\n",
        "    for w in range(a0.shape[1]): #Sisempi silmukka käy läpi kaikki sisääntulon painot ja suorittaa summaoperaation\n",
        "      tulos[n] += a0[0, w] * w1[w, n]  #kerrotaan sisääntulo ja painot\n",
        "    tulos[n] += b1[n] #lisätään bias tulosvektorin n:nelle elementille\n",
        "\n",
        "    print(\"tuloksen shape = \", tulos.shape)\n",
        "  return tulos #palautetaan lopullinen tulos, joka on vektori\n",
        "\n",
        "\n",
        "#tässä haetaan tiedostosta x (voit muuttaa tiedoston nimeä)\n",
        "\n",
        "x = data_dir/'no/01bb6a2a_nohash_0.wav'\n",
        "x = tf.io.read_file(str(x))\n",
        "x, sample_rate = tf.audio.decode_wav(x, desired_channels=1, desired_samples=16000,)\n",
        "x = tf.squeeze(x, axis=-1)\n",
        "x = get_spectrogram(x)\n",
        "x = x[tf.newaxis,...]\n",
        "\n",
        "#testataan x-arvoa\n",
        "\n",
        "(start, layer, end) = get_reference_layer(\"resizing\", model)\n",
        "\n",
        "input = start(x)\n",
        "\n",
        "output = layer(input)\n",
        "original_result = end(output)\n",
        "\n",
        "resizing_result = resizing(input)\n",
        "\n",
        "normalization_result = normalization(resizing_result)\n",
        "\n",
        "convolution_result = convolution1(normalization_result, \"conv2d\")\n",
        "\n",
        "maxPooling1_result = maxPooling(convolution_result)\n",
        "\n",
        "convolution0_result = convolution_2(maxPooling1_result, \"conv2d_1\")\n",
        "\n",
        "maxPooling2_result = maxPooling(convolution0_result)\n",
        "\n",
        "convolution1_result = convolution_2(maxPooling2_result, \"conv2d_2\")\n",
        "\n",
        "convolution2_result = convolution_2(convolution1_result, \"conv2d_3\")\n",
        "\n",
        "maxPooling_result = maxPoolingSpecial(convolution2_result)\n",
        "\n",
        "flattenJaDense1_result = flattenJaDense1(maxPooling_result)\n",
        "\n",
        "omaDense2_result = omaDense2(flattenJaDense1_result,w1,b1)\n",
        "\n",
        "omaDense2_result = omaDense2_result.reshape(1,-1)\n",
        "\n",
        "print(\"omaDense2 result =\", omaDense2_result)\n",
        "print(\"original result =\", original_result)\n",
        "\n",
        "# Plotataan tulokset\n",
        "x_labels = ['down', 'go', 'left', 'no', 'right', 'stop', 'up', 'yes']\n",
        "\n",
        "plt.figure(1, figsize=(12, 8))\n",
        "\n",
        "plt.subplot(1, 2, 1)\n",
        "plt.bar(x_labels, tf.nn.softmax(tf.reshape(original_result[-1], [-1])[:8]))\n",
        "plt.title('Original Dense1 Result')\n",
        "\n",
        "plt.subplot(1, 2, 2)\n",
        "plt.bar(x_labels, tf.nn.softmax(tf.reshape(omaDense2_result[-1], [-1])[:8]))\n",
        "plt.title('OmaDense2 Result')\n",
        "\n",
        "plt.tight_layout()\n",
        "plt.show()\n"
      ],
      "metadata": {
        "id": "yqqDxokjilDy",
        "colab": {
          "base_uri": "https://localhost:8080/",
          "height": 1000
        },
        "outputId": "ae14ce0f-98b4-490b-80b8-e916906c1fb9"
      },
      "execution_count": null,
      "outputs": [
        {
          "output_type": "stream",
          "name": "stdout",
          "text": [
            "resizing input shape = (1, 124, 129, 1)\n",
            "resizing output shape = (1, 32, 32, 1)\n",
            "convolution1 input shape = (1, 32, 32, 1)\n",
            "convolution1 output shape = (1, 30, 30, 32)\n",
            "maxPooling input shape = (1, 30, 30, 32)\n",
            "maxPooling output shape = (1, 15, 15, 32)\n",
            "convolution_2 input shape = (1, 15, 15, 32)\n",
            "convolution_2 output shape = (1, 13, 13, 64)\n",
            "maxPooling input shape = (1, 13, 13, 64)\n",
            "maxPooling output shape = (1, 6, 6, 64)\n",
            "convolution_2 input shape = (1, 6, 6, 64)\n",
            "convolution_2 output shape = (1, 4, 4, 128)\n",
            "convolution_2 input shape = (1, 4, 4, 128)\n",
            "convolution_2 output shape = (1, 2, 2, 128)\n",
            "maxpoolingspecial input ennen reshape = (1, 2, 2, 128)\n",
            "maxPooling input shape = (2, 2, 128)\n",
            "maxPooling tulos shape = (1, 1, 128)\n",
            "input shape = (128,)\n",
            "w2 shape =  (128, 256)\n",
            "b2 shape =  (256,)\n",
            "shape nollassa =  128\n",
            "tulos shape =  (256,)\n",
            "b1 shape = (8,)\n",
            "a0 shape = (1, 256)\n",
            "tuloksen shape =  (8,)\n",
            "tuloksen shape =  (8,)\n",
            "tuloksen shape =  (8,)\n",
            "tuloksen shape =  (8,)\n",
            "tuloksen shape =  (8,)\n",
            "tuloksen shape =  (8,)\n",
            "tuloksen shape =  (8,)\n",
            "tuloksen shape =  (8,)\n",
            "omaDense2 result = [[ 3.65753514  6.13773165 -6.67898675  9.31411945 -8.14284102 -9.80759336\n",
            "  -9.06475513 -5.46555783]]\n",
            "original result = tf.Tensor(\n",
            "[[ 1.4966475  2.9490588 -3.2416825  4.5699487 -4.516499  -4.655597\n",
            "  -4.3737683 -2.5363073]], shape=(1, 8), dtype=float32)\n"
          ]
        },
        {
          "output_type": "display_data",
          "data": {
            "text/plain": [
              "<Figure size 1200x800 with 2 Axes>"
            ],
            "image/png": "[encoded data removed]"
          },
          "metadata": {}
        }
      ]
    },
    {
      "cell_type": "code",
      "source": [
        "#tämä on koekappale:\n",
        "\n",
        "def omaDense2(a0,w1,b1):\n",
        "\n",
        "  w1,b1 = get_layer_weights(\"dense_1\",model)\n",
        "  a0 = a0.reshape(1,-1)\n",
        "\n",
        "  tulos = np.zeros(b1.shape)  #Luodaan nollavektori, jonka pituus on 8, eli biasin koko\n",
        "  print(\"b1 shape =\", b1.shape)\n",
        "  print(\"a0 shape =\", a0.shape)\n",
        "\n",
        "  for n in range(b1.shape[0]): #Ulompi silmukka käy läpi jokaisen tulosvektorin elementin\n",
        "    for w in range(a0.shape[1]): #Sisempi silmukka käy läpi kaikki sisääntulon painot ja suorittaa summaoperaation\n",
        "      tulos[n] += a0[0, w] * w1[w, n]  #kerrotaan sisääntulo ja painot\n",
        "    tulos[n] += b1[n] #lisätään bias tulosvektorin n:nelle elementille\n",
        "\n",
        "    print(\"omaDense2 tuloksen shape = \", tulos.shape)\n",
        "  return tulos #palautetaan lopullinen tulos, joka on vektori\n",
        "\n",
        "def flattenJaDense1(input):\n",
        "\n",
        "    print(\"flattenJaDense1 input shape funktion sisällä =\", input.shape)\n",
        "    input = input.numpy().reshape(128)\n",
        "    w2,b2 = get_layer_weights(\"dense\",model)\n",
        "\n",
        "\n",
        "    print(\"w2 shape = \", w2.shape)\n",
        "    print(\"b2 shape = \", b2.shape)\n",
        "    print(\"flattenJaDense1 shape nollassa = \", w2.shape[0])\n",
        "\n",
        "    tulos = np.zeros(256)\n",
        "\n",
        "\n",
        "    # Lisää Dense-kerros\n",
        "    tulos = np.matmul(input, w2) + b2\n",
        "    for i in range(256):\n",
        "      if tulos[i] < 0:\n",
        "        tulos[i] = 0\n",
        "\n",
        "    print(\"flattenJaDense1 tulos shape = \", tulos.shape)\n",
        "\n",
        "    return tulos #tämän shape pitää olla (1,128)\n",
        "\n",
        "#testataan x-arvoa layeriin flattenJaDense1\n",
        "(start, layer, end) = get_reference_layer(\"dense\", model)\n",
        "\n",
        "input = start(x)\n",
        "\n",
        "output = layer(input)\n",
        "\n",
        "dense1_result = flattenJaDense1(input)\n",
        "\n",
        "print(\"flattenJaDense1 input shape =\", input.shape)\n",
        "print(\"dense output shape =\", output.shape)\n",
        "print(\"flattenJaDense1_result shape =\", dense1_result.shape)\n",
        "\n",
        "print('tulosten ero =', np.sum(np.abs(output - dense1_result)))\n",
        "\n",
        "#testataan x-arvoa layeriin omaDense2\n",
        "(start, layer, end) = get_reference_layer(\"dense_1\", model)\n",
        "\n",
        "input = start(x)\n",
        "\n",
        "output = layer(input)\n",
        "\n",
        "dense2_result = omaDense2(dense1_result,w1,b1)\n",
        "print('dense2_result shape =', dense2_result.shape)\n",
        "\n",
        "dense2_result = dense2_result.reshape(1,-1)\n",
        "print('dense2_result shape =', dense2_result.shape)\n",
        "\n",
        "\n",
        "print('tulosten ero =', np.sum(np.abs(output[:, :8] - dense2_result)))\n",
        "\n",
        "\n",
        "x_labels = ['down','go','left','no','right','stop','up','yes']\n",
        "plt.figure(1)\n",
        "plt.subplot(1,2,1)\n",
        "plt.bar(x_labels, tf.nn.softmax(tf.reshape(output[-1], [-1])[:8]))\n",
        "plt.subplot(1,2,2)\n",
        "plt.bar(x_labels, tf.nn.softmax(tf.reshape(dense2_result[-1], [-1])[:256]))\n",
        "plt.show()"
      ],
      "metadata": {
        "id": "Al36JopKo_J3",
        "colab": {
          "base_uri": "https://localhost:8080/",
          "height": 812
        },
        "outputId": "640728a8-2ce4-4393-d001-902fdac36f6e"
      },
      "execution_count": null,
      "outputs": [
        {
          "output_type": "stream",
          "name": "stdout",
          "text": [
            "flattenJaDense1 input shape funktion sisällä = (1, 128)\n",
            "w2 shape =  (128, 256)\n",
            "b2 shape =  (256,)\n",
            "flattenJaDense1 shape nollassa =  128\n",
            "flattenJaDense1 tulos shape =  (256,)\n",
            "flattenJaDense1 input shape = (1, 128)\n",
            "dense output shape = (1, 256)\n",
            "flattenJaDense1_result shape = (256,)\n",
            "tulosten ero = 3.9711595e-06\n",
            "b1 shape = (8,)\n",
            "a0 shape = (1, 256)\n",
            "omaDense2 tuloksen shape =  (8,)\n",
            "omaDense2 tuloksen shape =  (8,)\n",
            "omaDense2 tuloksen shape =  (8,)\n",
            "omaDense2 tuloksen shape =  (8,)\n",
            "omaDense2 tuloksen shape =  (8,)\n",
            "omaDense2 tuloksen shape =  (8,)\n",
            "omaDense2 tuloksen shape =  (8,)\n",
            "omaDense2 tuloksen shape =  (8,)\n",
            "dense2_result shape = (8,)\n",
            "dense2_result shape = (1, 8)\n",
            "tulosten ero = 1.3113022e-06\n"
          ]
        },
        {
          "output_type": "display_data",
          "data": {
            "text/plain": [
              "<Figure size 640x480 with 2 Axes>"
            ],
            "image/png": "[encoded data removed]"
          },
          "metadata": {}
        }
      ]
    }
  ]
}